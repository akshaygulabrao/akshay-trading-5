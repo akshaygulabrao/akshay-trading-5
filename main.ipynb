{
 "cells": [
  {
   "cell_type": "code",
   "execution_count": null,
   "id": "d716e1c1",
   "metadata": {},
   "outputs": [
    {
     "name": "stdout",
     "output_type": "stream",
     "text": [
      "The autoreload extension is already loaded. To reload it, use:\n",
      "  %reload_ext autoreload\n"
     ]
    }
   ],
   "source": [
    "import asyncio\n",
    "import numpy as np\n",
    "import pandas as pd\n",
    "import os\n",
    "import json\n",
    "import requests\n",
    "import math\n",
    "\n",
    "import utils\n",
    "import weather_sensor_reading\n",
    "import weather_info\n",
    "\n",
    "%load_ext autoreload\n",
    "%autoreload 2"
   ]
  },
  {
   "cell_type": "code",
   "execution_count": null,
   "id": "89a75d65",
   "metadata": {},
   "outputs": [
    {
     "name": "stdout",
     "output_type": "stream",
     "text": [
      "NY\n",
      "   KXHIGHNY-25MAY19\n",
      "     KXHIGHNY-25MAY19-T69 0\n"
     ]
    },
    {
     "ename": "KeyError",
     "evalue": "('NY', 'KXHIGHNY-25MAY19', 'KXHIGHNY-25MAY19-B69.5')",
     "output_type": "error",
     "traceback": [
      "\u001b[31m---------------------------------------------------------------------------\u001b[39m",
      "\u001b[31mKeyError\u001b[39m                                  Traceback (most recent call last)",
      "\u001b[36mCell\u001b[39m\u001b[36m \u001b[39m\u001b[32mIn[17]\u001b[39m\u001b[32m, line 16\u001b[39m\n\u001b[32m     13\u001b[39m     \u001b[38;5;28;01mif\u001b[39;00m mt > ceiling:\n\u001b[32m     14\u001b[39m         k_site_day_mkt2price[(k,evt,mkts[mkt_idx])] = \u001b[32m0\u001b[39m\n\u001b[32m---> \u001b[39m\u001b[32m16\u001b[39m \u001b[38;5;28mprint\u001b[39m(\u001b[33m\"\u001b[39m\u001b[33m \u001b[39m\u001b[33m\"\u001b[39m * \u001b[32m4\u001b[39m, mkts[mkt_idx], \u001b[43mk_site_day_mkt2price\u001b[49m\u001b[43m[\u001b[49m\u001b[43m(\u001b[49m\u001b[43mk\u001b[49m\u001b[43m,\u001b[49m\u001b[43mevt\u001b[49m\u001b[43m,\u001b[49m\u001b[43mmkts\u001b[49m\u001b[43m[\u001b[49m\u001b[43mmkt_idx\u001b[49m\u001b[43m]\u001b[49m\u001b[43m)\u001b[49m\u001b[43m]\u001b[49m)\n",
      "\u001b[31mKeyError\u001b[39m: ('NY', 'KXHIGHNY-25MAY19', 'KXHIGHNY-25MAY19-B69.5')"
     ]
    }
   ],
   "source": [
    "k_site_day_mkt2price = {}\n",
    "k_site2days = utils.get_events_hardcoded()\n",
    "\n",
    "def assign_equal_prob():\n",
    "\n",
    "\n",
    "for k in k_site2days:\n",
    "    print(k)\n",
    "    for evt in k_site2days[k]:\n",
    "        print(\" \"* 2, evt)\n",
    "        nws_site = weather_info.kalshi_site2nws_site[k]\n",
    "        (d,t),(md,mt) = weather_sensor_reading.latest_sensor_reading(nws_site)\n",
    "        mkts = utils.get_markets(evt,k)\n",
    "\n",
    "        for mkt_idx in range(len(mkts)):\n",
    "            if mkt_idx == 0:\n",
    "                ceiling = utils.extract_num_from_mkt(mkts[mkt_idx],k)\n",
    "                if mt > ceiling:\n",
    "                    k_site_day_mkt2price[(k,evt,mkts[mkt_idx])] = 0\n",
    "                else:\n",
    "                    break\n",
    "            elif mkt_idx != 5:\n",
    "                num = utils.extract_num_from_mkt(mkts[mkt_idx],k)\n",
    "                flr = math.floor(num)\n",
    "                cei = math.ceil(num)\n",
    "                if flr <= mt <= cei:\n",
    "                    \n",
    "\n",
    "            print(\" \" * 4, mkts[mkt_idx], k_site_day_mkt2price[(k,evt,mkts[mkt_idx])])\n",
    "    "
   ]
  }
 ],
 "metadata": {
  "kernelspec": {
   "display_name": ".venv",
   "language": "python",
   "name": "python3"
  },
  "language_info": {
   "codemirror_mode": {
    "name": "ipython",
    "version": 3
   },
   "file_extension": ".py",
   "mimetype": "text/x-python",
   "name": "python",
   "nbconvert_exporter": "python",
   "pygments_lexer": "ipython3",
   "version": "3.13.2"
  }
 },
 "nbformat": 4,
 "nbformat_minor": 5
}
